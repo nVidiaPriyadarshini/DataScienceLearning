{
 "cells": [
  {
   "cell_type": "markdown",
   "metadata": {},
   "source": [
    "## POS tagging using modified Viterbi"
   ]
  },
  {
   "cell_type": "markdown",
   "metadata": {},
   "source": [
    "### Data Preparation"
   ]
  },
  {
   "cell_type": "code",
   "execution_count": 61,
   "metadata": {},
   "outputs": [],
   "source": [
    "#Importing libraries\n",
    "import nltk\n",
    "from sklearn.model_selection import train_test_split\n",
    "from nltk.tokenize import word_tokenize\n",
    "import numpy as np\n",
    "import pandas as pd\n",
    "import matplotlib.pyplot as plt\n",
    "import seaborn as sns\n",
    "import random\n",
    "import time\n",
    "from collections import defaultdict"
   ]
  },
  {
   "cell_type": "code",
   "execution_count": 19,
   "metadata": {},
   "outputs": [
    {
     "name": "stdout",
     "output_type": "stream",
     "text": [
      "3914\n"
     ]
    }
   ],
   "source": [
    "# reading the Treebank tagged sentences\n",
    "nltk_data = list(nltk.corpus.treebank.tagged_sents(tagset='universal'))\n",
    "print(len(nltk_data))\n"
   ]
  },
  {
   "cell_type": "code",
   "execution_count": 20,
   "metadata": {},
   "outputs": [
    {
     "name": "stdout",
     "output_type": "stream",
     "text": [
      "3718\n",
      "196\n"
     ]
    }
   ],
   "source": [
    "x_train ,x_test = train_test_split(nltk_data,test_size=0.05) \n",
    "print(len(x_train))\n",
    "print(len(x_test))"
   ]
  },
  {
   "cell_type": "code",
   "execution_count": 21,
   "metadata": {},
   "outputs": [
    {
     "data": {
      "text/plain": [
       "95824"
      ]
     },
     "execution_count": 21,
     "metadata": {},
     "output_type": "execute_result"
    }
   ],
   "source": [
    "# Getting list of tagged words\n",
    "train_tagged_words = [tup for sent in x_train for tup in sent]\n",
    "len(train_tagged_words)"
   ]
  },
  {
   "cell_type": "code",
   "execution_count": 22,
   "metadata": {},
   "outputs": [
    {
     "data": {
      "text/plain": [
       "['About',\n",
       " '20,000',\n",
       " 'sets',\n",
       " 'of',\n",
       " 'Learning',\n",
       " 'Materials',\n",
       " 'teachers',\n",
       " \"'\",\n",
       " 'binders',\n",
       " 'have']"
      ]
     },
     "execution_count": 22,
     "metadata": {},
     "output_type": "execute_result"
    }
   ],
   "source": [
    "# tokens \n",
    "tokens = [pair[0] for pair in train_tagged_words]\n",
    "tokens[:10]"
   ]
  },
  {
   "cell_type": "code",
   "execution_count": 23,
   "metadata": {},
   "outputs": [
    {
     "name": "stdout",
     "output_type": "stream",
     "text": [
      "12058\n"
     ]
    }
   ],
   "source": [
    "# vocabulary\n",
    "V = set(tokens)\n",
    "print(len(V))"
   ]
  },
  {
   "cell_type": "code",
   "execution_count": 24,
   "metadata": {},
   "outputs": [
    {
     "data": {
      "text/plain": [
       "12"
      ]
     },
     "execution_count": 24,
     "metadata": {},
     "output_type": "execute_result"
    }
   ],
   "source": [
    "# number of tags\n",
    "T = set([pair[1] for pair in train_tagged_words])\n",
    "len(T)"
   ]
  },
  {
   "cell_type": "code",
   "execution_count": 25,
   "metadata": {},
   "outputs": [
    {
     "name": "stdout",
     "output_type": "stream",
     "text": [
      "{'VERB', 'DET', '.', 'PRT', 'ADJ', 'X', 'ADP', 'NUM', 'ADV', 'PRON', 'NOUN', 'CONJ'}\n"
     ]
    }
   ],
   "source": [
    "print(T)"
   ]
  },
  {
   "cell_type": "code",
   "execution_count": 26,
   "metadata": {},
   "outputs": [
    {
     "data": {
      "text/plain": [
       "0.8957131079967023"
      ]
     },
     "execution_count": 26,
     "metadata": {},
     "output_type": "execute_result"
    }
   ],
   "source": [
    "# Lexicon (or unigram tagger)\n",
    "unigram_tagger = nltk.UnigramTagger(x_train)\n",
    "unigram_tagger.evaluate(x_test)"
   ]
  },
  {
   "cell_type": "markdown",
   "metadata": {},
   "source": [
    "Thus we can observe that Lexicon based Unittager gives an accuracy of approx 89%."
   ]
  },
  {
   "cell_type": "markdown",
   "metadata": {},
   "source": [
    "### Build the vanilla Viterbi based POS tagger"
   ]
  },
  {
   "cell_type": "markdown",
   "metadata": {},
   "source": [
    "#### Emission Probablities"
   ]
  },
  {
   "cell_type": "code",
   "execution_count": 28,
   "metadata": {},
   "outputs": [],
   "source": [
    "# computing P(w/t) and storing in T x V matrix\n",
    "t = len(T)\n",
    "v = len(V)\n",
    "w_given_t = np.zeros((t, v))"
   ]
  },
  {
   "cell_type": "code",
   "execution_count": 29,
   "metadata": {},
   "outputs": [],
   "source": [
    "# compute word given tag: Emission Probability\n",
    "def word_given_tag(word, tag, train_bag = train_tagged_words):\n",
    "    tag_list = [pair for pair in train_bag if pair[1]==tag]\n",
    "    count_tag = len(tag_list)\n",
    "    w_given_tag_list = [pair[0] for pair in tag_list if pair[0]==word]\n",
    "    count_w_given_tag = len(w_given_tag_list)\n",
    "    \n",
    "    return (count_w_given_tag, count_tag)"
   ]
  },
  {
   "cell_type": "code",
   "execution_count": 34,
   "metadata": {},
   "outputs": [
    {
     "name": "stdout",
     "output_type": "stream",
     "text": [
      "\n",
      " Android\n",
      "(0, 27486)\n",
      "\n",
      " Google\n",
      "(0, 27486)\n",
      "\n",
      " flights\n",
      "(2, 27486)\n",
      "\n",
      " will\n",
      "(1, 27486)\n",
      "(265, 12924)\n"
     ]
    }
   ],
   "source": [
    "# examples\n",
    "\n",
    "# Android\n",
    "print(\"\\n\", \"Android\")\n",
    "print(word_given_tag('Android','NOUN'))\n",
    "\n",
    "# Google\n",
    "print(\"\\n\", \"Google\")\n",
    "print(word_given_tag('Google','NOUN'))\n",
    "\n",
    "# flights\n",
    "print(\"\\n\", \"flights\")\n",
    "print(word_given_tag('flights', 'NOUN'))\n",
    "\n",
    "\n",
    "# will\n",
    "print(\"\\n\", \"will\")\n",
    "print(word_given_tag('will', 'NOUN'))\n",
    "print(word_given_tag('will', 'VERB'))\n"
   ]
  },
  {
   "cell_type": "markdown",
   "metadata": {},
   "source": [
    "#### Transition Probabilities"
   ]
  },
  {
   "cell_type": "code",
   "execution_count": 35,
   "metadata": {},
   "outputs": [],
   "source": [
    "# compute tag given tag: tag2(t2) given tag1 (t1), i.e. Transition Probability\n",
    "\n",
    "def t2_given_t1(t2, t1, train_bag = train_tagged_words):\n",
    "    tags = [pair[1] for pair in train_bag]\n",
    "    count_t1 = len([t for t in tags if t==t1])\n",
    "    count_t2_t1 = 0\n",
    "    for index in range(len(tags)-1):\n",
    "        if tags[index]==t1 and tags[index+1] == t2:\n",
    "            count_t2_t1 += 1\n",
    "    return (count_t2_t1, count_t1)"
   ]
  },
  {
   "cell_type": "code",
   "execution_count": 36,
   "metadata": {},
   "outputs": [
    {
     "name": "stdout",
     "output_type": "stream",
     "text": [
      "(4262, 6084)\n",
      "(4262, 6084)\n",
      "(5323, 8311)\n",
      "(1426, 12924)\n",
      "(6581, 27486)\n",
      "(20, 2599)\n",
      "(4047, 27486)\n"
     ]
    }
   ],
   "source": [
    "# examples\n",
    "print(t2_given_t1(t2='NOUN', t1='ADJ'))\n",
    "print(t2_given_t1('NOUN', 'ADJ'))\n",
    "print(t2_given_t1('NOUN', 'DET'))\n",
    "print(t2_given_t1('NOUN', 'VERB'))\n",
    "print(t2_given_t1('.', 'NOUN'))\n",
    "print(t2_given_t1('PRON', 'PRON'))\n",
    "print(t2_given_t1('VERB', 'NOUN'))"
   ]
  },
  {
   "cell_type": "code",
   "execution_count": 37,
   "metadata": {},
   "outputs": [
    {
     "name": "stdout",
     "output_type": "stream",
     "text": [
      "(1931, 11139)\n",
      "(982, 11139)\n",
      "(2475, 11139)\n",
      "(2475, 11139)\n"
     ]
    }
   ],
   "source": [
    "#Please note P(tag|start) is same as P(tag|'.')\n",
    "print(t2_given_t1('DET', '.'))\n",
    "print(t2_given_t1('VERB', '.'))\n",
    "print(t2_given_t1('NOUN', '.'))\n",
    "print(t2_given_t1('NOUN', '.'))\n"
   ]
  },
  {
   "cell_type": "code",
   "execution_count": 38,
   "metadata": {},
   "outputs": [],
   "source": [
    "# creating t x t transition matrix of tags\n",
    "# each column is t2, each row is t1\n",
    "# thus M(i, j) represents P(tj given ti)\n",
    "\n",
    "tags_matrix = np.zeros((len(T), len(T)), dtype='float32')\n",
    "for i, t1 in enumerate(list(T)):\n",
    "    for j, t2 in enumerate(list(T)): \n",
    "        tags_matrix[i, j] = t2_given_t1(t2, t1)[0]/t2_given_t1(t2, t1)[1]"
   ]
  },
  {
   "cell_type": "code",
   "execution_count": 39,
   "metadata": {},
   "outputs": [
    {
     "data": {
      "text/plain": [
       "array([[1.69993803e-01, 1.33936867e-01, 3.42773125e-02, 3.14144231e-02,\n",
       "        6.48406073e-02, 2.17038065e-01, 9.12256241e-02, 2.31352523e-02,\n",
       "        8.24822038e-02, 3.56700718e-02, 1.10337354e-01, 5.64840622e-03],\n",
       "       [3.95860896e-02, 5.53483330e-03, 1.76874027e-02, 2.40644935e-04,\n",
       "        2.04427868e-01, 4.50006016e-02, 9.26482957e-03, 2.20190100e-02,\n",
       "        1.17916018e-02, 3.72999650e-03, 6.40476465e-01, 2.40644935e-04],\n",
       "       [8.81587192e-02, 1.73354879e-01, 9.32758749e-02, 2.15459196e-03,\n",
       "        4.44384590e-02, 2.76505966e-02, 9.09417346e-02, 8.12460706e-02,\n",
       "        5.25181778e-02, 6.50866330e-02, 2.22192302e-01, 5.88921793e-02],\n",
       "       [4.01106060e-01, 1.00520492e-01, 4.29407954e-02, 1.95185421e-03,\n",
       "        8.49056616e-02, 1.26870526e-02, 2.04944704e-02, 5.72543927e-02,\n",
       "        1.04098897e-02, 1.85426157e-02, 2.46909559e-01, 2.27716332e-03],\n",
       "       [1.21630505e-02, 4.60223528e-03, 6.54174909e-02, 1.10124918e-02,\n",
       "        6.65680468e-02, 2.03813277e-02, 7.77449012e-02, 1.95595007e-02,\n",
       "        4.43786988e-03, 6.57462224e-04, 7.00525999e-01, 1.69296507e-02],\n",
       "       [2.03368291e-01, 5.56085147e-02, 1.65872261e-01, 1.84779152e-01,\n",
       "        1.66825540e-02, 7.46742934e-02, 1.42834440e-01, 2.85986648e-03,\n",
       "        2.62154434e-02, 5.51318713e-02, 6.16460107e-02, 1.03272954e-02],\n",
       "       [8.22649617e-03, 3.25534195e-01, 3.98504287e-02, 1.17521372e-03,\n",
       "        1.06303416e-01, 3.46153863e-02, 1.69871803e-02, 6.16452992e-02,\n",
       "        1.35683762e-02, 6.88034222e-02, 3.22542727e-01, 7.47863261e-04],\n",
       "       [1.75386444e-02, 3.26991687e-03, 1.17122471e-01, 2.70511303e-02,\n",
       "        3.32936980e-02, 2.10166469e-01, 3.47800255e-02, 1.85493454e-01,\n",
       "        3.26991687e-03, 1.18906063e-03, 3.52853745e-01, 1.39714628e-02],\n",
       "       [3.46191883e-01, 7.02274963e-02, 1.34520277e-01, 1.41773820e-02,\n",
       "        1.29574671e-01, 2.27497518e-02, 1.17045827e-01, 3.00032962e-02,\n",
       "        8.07781070e-02, 1.58259142e-02, 3.16518284e-02, 7.25354441e-03],\n",
       "       [4.82878029e-01, 9.61908419e-03, 4.07849178e-02, 1.30819548e-02,\n",
       "        7.27202743e-02, 9.46517885e-02, 2.11619847e-02, 7.69526744e-03,\n",
       "        3.46287042e-02, 7.69526744e-03, 2.10080802e-01, 5.00192400e-03],\n",
       "       [1.47238597e-01, 1.31703410e-02, 2.39430979e-01, 4.42770869e-02,\n",
       "        1.21152587e-02, 2.94331666e-02, 1.76671758e-01, 9.64127202e-03,\n",
       "        1.70268510e-02, 4.72968072e-03, 2.64061689e-01, 4.22033034e-02],\n",
       "       [1.58163264e-01, 1.19666047e-01, 3.43228206e-02, 4.63821879e-03,\n",
       "        1.20129868e-01, 8.81261565e-03, 5.24118729e-02, 4.03525047e-02,\n",
       "        5.51948063e-02, 5.93692027e-02, 3.46474946e-01, 4.63821896e-04]],\n",
       "      dtype=float32)"
      ]
     },
     "execution_count": 39,
     "metadata": {},
     "output_type": "execute_result"
    }
   ],
   "source": [
    "tags_matrix"
   ]
  },
  {
   "cell_type": "code",
   "execution_count": 40,
   "metadata": {},
   "outputs": [],
   "source": [
    "# convert the matrix to a df for better readability\n",
    "tags_df = pd.DataFrame(tags_matrix, columns = list(T), index=list(T))"
   ]
  },
  {
   "cell_type": "code",
   "execution_count": 41,
   "metadata": {},
   "outputs": [
    {
     "data": {
      "text/html": [
       "<div>\n",
       "<style scoped>\n",
       "    .dataframe tbody tr th:only-of-type {\n",
       "        vertical-align: middle;\n",
       "    }\n",
       "\n",
       "    .dataframe tbody tr th {\n",
       "        vertical-align: top;\n",
       "    }\n",
       "\n",
       "    .dataframe thead th {\n",
       "        text-align: right;\n",
       "    }\n",
       "</style>\n",
       "<table border=\"1\" class=\"dataframe\">\n",
       "  <thead>\n",
       "    <tr style=\"text-align: right;\">\n",
       "      <th></th>\n",
       "      <th>VERB</th>\n",
       "      <th>DET</th>\n",
       "      <th>.</th>\n",
       "      <th>PRT</th>\n",
       "      <th>ADJ</th>\n",
       "      <th>X</th>\n",
       "      <th>ADP</th>\n",
       "      <th>NUM</th>\n",
       "      <th>ADV</th>\n",
       "      <th>PRON</th>\n",
       "      <th>NOUN</th>\n",
       "      <th>CONJ</th>\n",
       "    </tr>\n",
       "  </thead>\n",
       "  <tbody>\n",
       "    <tr>\n",
       "      <th>VERB</th>\n",
       "      <td>0.169994</td>\n",
       "      <td>0.133937</td>\n",
       "      <td>0.034277</td>\n",
       "      <td>0.031414</td>\n",
       "      <td>0.064841</td>\n",
       "      <td>0.217038</td>\n",
       "      <td>0.091226</td>\n",
       "      <td>0.023135</td>\n",
       "      <td>0.082482</td>\n",
       "      <td>0.035670</td>\n",
       "      <td>0.110337</td>\n",
       "      <td>0.005648</td>\n",
       "    </tr>\n",
       "    <tr>\n",
       "      <th>DET</th>\n",
       "      <td>0.039586</td>\n",
       "      <td>0.005535</td>\n",
       "      <td>0.017687</td>\n",
       "      <td>0.000241</td>\n",
       "      <td>0.204428</td>\n",
       "      <td>0.045001</td>\n",
       "      <td>0.009265</td>\n",
       "      <td>0.022019</td>\n",
       "      <td>0.011792</td>\n",
       "      <td>0.003730</td>\n",
       "      <td>0.640476</td>\n",
       "      <td>0.000241</td>\n",
       "    </tr>\n",
       "    <tr>\n",
       "      <th>.</th>\n",
       "      <td>0.088159</td>\n",
       "      <td>0.173355</td>\n",
       "      <td>0.093276</td>\n",
       "      <td>0.002155</td>\n",
       "      <td>0.044438</td>\n",
       "      <td>0.027651</td>\n",
       "      <td>0.090942</td>\n",
       "      <td>0.081246</td>\n",
       "      <td>0.052518</td>\n",
       "      <td>0.065087</td>\n",
       "      <td>0.222192</td>\n",
       "      <td>0.058892</td>\n",
       "    </tr>\n",
       "    <tr>\n",
       "      <th>PRT</th>\n",
       "      <td>0.401106</td>\n",
       "      <td>0.100520</td>\n",
       "      <td>0.042941</td>\n",
       "      <td>0.001952</td>\n",
       "      <td>0.084906</td>\n",
       "      <td>0.012687</td>\n",
       "      <td>0.020494</td>\n",
       "      <td>0.057254</td>\n",
       "      <td>0.010410</td>\n",
       "      <td>0.018543</td>\n",
       "      <td>0.246910</td>\n",
       "      <td>0.002277</td>\n",
       "    </tr>\n",
       "    <tr>\n",
       "      <th>ADJ</th>\n",
       "      <td>0.012163</td>\n",
       "      <td>0.004602</td>\n",
       "      <td>0.065417</td>\n",
       "      <td>0.011012</td>\n",
       "      <td>0.066568</td>\n",
       "      <td>0.020381</td>\n",
       "      <td>0.077745</td>\n",
       "      <td>0.019560</td>\n",
       "      <td>0.004438</td>\n",
       "      <td>0.000657</td>\n",
       "      <td>0.700526</td>\n",
       "      <td>0.016930</td>\n",
       "    </tr>\n",
       "    <tr>\n",
       "      <th>X</th>\n",
       "      <td>0.203368</td>\n",
       "      <td>0.055609</td>\n",
       "      <td>0.165872</td>\n",
       "      <td>0.184779</td>\n",
       "      <td>0.016683</td>\n",
       "      <td>0.074674</td>\n",
       "      <td>0.142834</td>\n",
       "      <td>0.002860</td>\n",
       "      <td>0.026215</td>\n",
       "      <td>0.055132</td>\n",
       "      <td>0.061646</td>\n",
       "      <td>0.010327</td>\n",
       "    </tr>\n",
       "    <tr>\n",
       "      <th>ADP</th>\n",
       "      <td>0.008226</td>\n",
       "      <td>0.325534</td>\n",
       "      <td>0.039850</td>\n",
       "      <td>0.001175</td>\n",
       "      <td>0.106303</td>\n",
       "      <td>0.034615</td>\n",
       "      <td>0.016987</td>\n",
       "      <td>0.061645</td>\n",
       "      <td>0.013568</td>\n",
       "      <td>0.068803</td>\n",
       "      <td>0.322543</td>\n",
       "      <td>0.000748</td>\n",
       "    </tr>\n",
       "    <tr>\n",
       "      <th>NUM</th>\n",
       "      <td>0.017539</td>\n",
       "      <td>0.003270</td>\n",
       "      <td>0.117122</td>\n",
       "      <td>0.027051</td>\n",
       "      <td>0.033294</td>\n",
       "      <td>0.210166</td>\n",
       "      <td>0.034780</td>\n",
       "      <td>0.185493</td>\n",
       "      <td>0.003270</td>\n",
       "      <td>0.001189</td>\n",
       "      <td>0.352854</td>\n",
       "      <td>0.013971</td>\n",
       "    </tr>\n",
       "    <tr>\n",
       "      <th>ADV</th>\n",
       "      <td>0.346192</td>\n",
       "      <td>0.070227</td>\n",
       "      <td>0.134520</td>\n",
       "      <td>0.014177</td>\n",
       "      <td>0.129575</td>\n",
       "      <td>0.022750</td>\n",
       "      <td>0.117046</td>\n",
       "      <td>0.030003</td>\n",
       "      <td>0.080778</td>\n",
       "      <td>0.015826</td>\n",
       "      <td>0.031652</td>\n",
       "      <td>0.007254</td>\n",
       "    </tr>\n",
       "    <tr>\n",
       "      <th>PRON</th>\n",
       "      <td>0.482878</td>\n",
       "      <td>0.009619</td>\n",
       "      <td>0.040785</td>\n",
       "      <td>0.013082</td>\n",
       "      <td>0.072720</td>\n",
       "      <td>0.094652</td>\n",
       "      <td>0.021162</td>\n",
       "      <td>0.007695</td>\n",
       "      <td>0.034629</td>\n",
       "      <td>0.007695</td>\n",
       "      <td>0.210081</td>\n",
       "      <td>0.005002</td>\n",
       "    </tr>\n",
       "    <tr>\n",
       "      <th>NOUN</th>\n",
       "      <td>0.147239</td>\n",
       "      <td>0.013170</td>\n",
       "      <td>0.239431</td>\n",
       "      <td>0.044277</td>\n",
       "      <td>0.012115</td>\n",
       "      <td>0.029433</td>\n",
       "      <td>0.176672</td>\n",
       "      <td>0.009641</td>\n",
       "      <td>0.017027</td>\n",
       "      <td>0.004730</td>\n",
       "      <td>0.264062</td>\n",
       "      <td>0.042203</td>\n",
       "    </tr>\n",
       "    <tr>\n",
       "      <th>CONJ</th>\n",
       "      <td>0.158163</td>\n",
       "      <td>0.119666</td>\n",
       "      <td>0.034323</td>\n",
       "      <td>0.004638</td>\n",
       "      <td>0.120130</td>\n",
       "      <td>0.008813</td>\n",
       "      <td>0.052412</td>\n",
       "      <td>0.040353</td>\n",
       "      <td>0.055195</td>\n",
       "      <td>0.059369</td>\n",
       "      <td>0.346475</td>\n",
       "      <td>0.000464</td>\n",
       "    </tr>\n",
       "  </tbody>\n",
       "</table>\n",
       "</div>"
      ],
      "text/plain": [
       "          VERB       DET         .       PRT       ADJ         X       ADP  \\\n",
       "VERB  0.169994  0.133937  0.034277  0.031414  0.064841  0.217038  0.091226   \n",
       "DET   0.039586  0.005535  0.017687  0.000241  0.204428  0.045001  0.009265   \n",
       ".     0.088159  0.173355  0.093276  0.002155  0.044438  0.027651  0.090942   \n",
       "PRT   0.401106  0.100520  0.042941  0.001952  0.084906  0.012687  0.020494   \n",
       "ADJ   0.012163  0.004602  0.065417  0.011012  0.066568  0.020381  0.077745   \n",
       "X     0.203368  0.055609  0.165872  0.184779  0.016683  0.074674  0.142834   \n",
       "ADP   0.008226  0.325534  0.039850  0.001175  0.106303  0.034615  0.016987   \n",
       "NUM   0.017539  0.003270  0.117122  0.027051  0.033294  0.210166  0.034780   \n",
       "ADV   0.346192  0.070227  0.134520  0.014177  0.129575  0.022750  0.117046   \n",
       "PRON  0.482878  0.009619  0.040785  0.013082  0.072720  0.094652  0.021162   \n",
       "NOUN  0.147239  0.013170  0.239431  0.044277  0.012115  0.029433  0.176672   \n",
       "CONJ  0.158163  0.119666  0.034323  0.004638  0.120130  0.008813  0.052412   \n",
       "\n",
       "           NUM       ADV      PRON      NOUN      CONJ  \n",
       "VERB  0.023135  0.082482  0.035670  0.110337  0.005648  \n",
       "DET   0.022019  0.011792  0.003730  0.640476  0.000241  \n",
       ".     0.081246  0.052518  0.065087  0.222192  0.058892  \n",
       "PRT   0.057254  0.010410  0.018543  0.246910  0.002277  \n",
       "ADJ   0.019560  0.004438  0.000657  0.700526  0.016930  \n",
       "X     0.002860  0.026215  0.055132  0.061646  0.010327  \n",
       "ADP   0.061645  0.013568  0.068803  0.322543  0.000748  \n",
       "NUM   0.185493  0.003270  0.001189  0.352854  0.013971  \n",
       "ADV   0.030003  0.080778  0.015826  0.031652  0.007254  \n",
       "PRON  0.007695  0.034629  0.007695  0.210081  0.005002  \n",
       "NOUN  0.009641  0.017027  0.004730  0.264062  0.042203  \n",
       "CONJ  0.040353  0.055195  0.059369  0.346475  0.000464  "
      ]
     },
     "execution_count": 41,
     "metadata": {},
     "output_type": "execute_result"
    }
   ],
   "source": [
    "tags_df"
   ]
  },
  {
   "cell_type": "code",
   "execution_count": 42,
   "metadata": {},
   "outputs": [
    {
     "data": {
      "text/plain": [
       "VERB    0.088159\n",
       "DET     0.173355\n",
       ".       0.093276\n",
       "PRT     0.002155\n",
       "ADJ     0.044438\n",
       "X       0.027651\n",
       "ADP     0.090942\n",
       "NUM     0.081246\n",
       "ADV     0.052518\n",
       "PRON    0.065087\n",
       "NOUN    0.222192\n",
       "CONJ    0.058892\n",
       "Name: ., dtype: float32"
      ]
     },
     "execution_count": 42,
     "metadata": {},
     "output_type": "execute_result"
    }
   ],
   "source": [
    "tags_df.loc['.', :]"
   ]
  },
  {
   "cell_type": "code",
   "execution_count": 43,
   "metadata": {},
   "outputs": [
    {
     "data": {
      "image/png": "[encoded data removed]",
      "text/plain": [
       "<Figure size 1296x864 with 2 Axes>"
      ]
     },
     "metadata": {},
     "output_type": "display_data"
    }
   ],
   "source": [
    "# frequent tags\n",
    "# filter the df to get P(t2, t1) > 0.5\n",
    "tags_frequent = tags_df[tags_df>0.5]\n",
    "plt.figure(figsize=(18, 12))\n",
    "sns.heatmap(tags_frequent)\n",
    "plt.show()"
   ]
  },
  {
   "cell_type": "markdown",
   "metadata": {},
   "source": [
    "### Viterbi Algorithm"
   ]
  },
  {
   "cell_type": "code",
   "execution_count": 44,
   "metadata": {},
   "outputs": [
    {
     "data": {
      "text/plain": [
       "95824"
      ]
     },
     "execution_count": 44,
     "metadata": {},
     "output_type": "execute_result"
    }
   ],
   "source": [
    "len(train_tagged_words)"
   ]
  },
  {
   "cell_type": "code",
   "execution_count": 50,
   "metadata": {},
   "outputs": [],
   "source": [
    "# Viterbi Heuristic\n",
    "def Viterbi(words, train_bag = train_tagged_words):\n",
    "    state = []\n",
    "    T = list(set([pair[1] for pair in train_bag]))\n",
    "    \n",
    "    for key, word in enumerate(words):\n",
    "        #initialise list of probability column for a given observation\n",
    "        p = [] \n",
    "        for tag in T:\n",
    "            if key == 0:\n",
    "                transition_p = tags_df.loc['.', tag]\n",
    "            else:\n",
    "                transition_p = tags_df.loc[state[-1], tag]\n",
    "                \n",
    "            # compute emission and state probabilities\n",
    "            emission_p = word_given_tag(words[key], tag)[0]/word_given_tag(words[key], tag)[1]\n",
    "            state_probability = emission_p * transition_p    \n",
    "            p.append(state_probability)\n",
    "            \n",
    "        pmax = max(p)\n",
    "        # getting state for which probability is maximum\n",
    "        state_max = T[p.index(pmax)] \n",
    "        state.append(state_max)\n",
    "    return list(zip(words, state))\n",
    "\n",
    "#accuracy\n",
    "def check_accuracy():\n",
    "    check = [i for i, j in zip(tagged_seq, test_run_base) if i == j] \n",
    "    accuracy = len(check)/len(tagged_seq)\n",
    "    return accuracy\n"
   ]
  },
  {
   "cell_type": "markdown",
   "metadata": {},
   "source": [
    "### Evaluating test set"
   ]
  },
  {
   "cell_type": "code",
   "execution_count": 46,
   "metadata": {},
   "outputs": [
    {
     "data": {
      "text/plain": [
       "[[('This', 'DET'),\n",
       "  ('species', 'NOUN'),\n",
       "  ('of', 'ADP'),\n",
       "  ('congressional', 'ADJ'),\n",
       "  ('action', 'NOUN'),\n",
       "  ('is', 'VERB'),\n",
       "  ('predicated', 'VERB'),\n",
       "  ('*-50', 'X'),\n",
       "  ('on', 'ADP'),\n",
       "  ('an', 'DET'),\n",
       "  ('interpretation', 'NOUN'),\n",
       "  ('of', 'ADP'),\n",
       "  ('the', 'DET'),\n",
       "  ('appropriations', 'NOUN'),\n",
       "  ('clause', 'NOUN'),\n",
       "  ('that', 'DET'),\n",
       "  ('*T*-1', 'X'),\n",
       "  ('is', 'VERB'),\n",
       "  ('erroneous', 'ADJ'),\n",
       "  ('and', 'CONJ'),\n",
       "  ('unconstitutional', 'ADJ'),\n",
       "  ('.', '.')],\n",
       " [('The', 'DET'),\n",
       "  ('Soviets', 'NOUN'),\n",
       "  (',', '.'),\n",
       "  ('who', 'PRON'),\n",
       "  ('*T*-12', 'X'),\n",
       "  ('normally', 'ADV'),\n",
       "  ('have', 'VERB'),\n",
       "  ('few', 'ADJ'),\n",
       "  ('clients', 'NOUN'),\n",
       "  ('other', 'ADJ'),\n",
       "  ('than', 'ADP'),\n",
       "  ('the', 'DET'),\n",
       "  ('state', 'NOUN'),\n",
       "  (',', '.'),\n",
       "  ('will', 'VERB'),\n",
       "  ('get', 'VERB'),\n",
       "  ('``', '.'),\n",
       "  ('exposure', 'NOUN'),\n",
       "  ('to', 'PRT'),\n",
       "  ('a', 'DET'),\n",
       "  ('market', 'NOUN'),\n",
       "  ('system', 'NOUN'),\n",
       "  (',', '.'),\n",
       "  (\"''\", '.'),\n",
       "  ('he', 'PRON'),\n",
       "  ('says', 'VERB'),\n",
       "  ('0', 'X'),\n",
       "  ('*T*-1', 'X'),\n",
       "  ('.', '.')],\n",
       " [('Much', 'ADJ'),\n",
       "  ('of', 'ADP'),\n",
       "  ('the', 'DET'),\n",
       "  ('800', 'NUM'),\n",
       "  ('service', 'NOUN'),\n",
       "  ('will', 'VERB'),\n",
       "  ('``', '.'),\n",
       "  ('migrate', 'VERB'),\n",
       "  ('to', 'PRT'),\n",
       "  ('900', 'NUM'),\n",
       "  (',', '.'),\n",
       "  (\"''\", '.'),\n",
       "  ('predicts', 'VERB'),\n",
       "  ('*T*-1', 'X'),\n",
       "  ('Jack', 'NOUN'),\n",
       "  ('Lawless', 'NOUN'),\n",
       "  (',', '.'),\n",
       "  ('general', 'ADJ'),\n",
       "  ('manager', 'NOUN'),\n",
       "  ('of', 'ADP'),\n",
       "  ('US', 'NOUN'),\n",
       "  ('Sprint', 'NOUN'),\n",
       "  (\"'s\", 'PRT'),\n",
       "  ('900', 'NUM'),\n",
       "  ('product', 'NOUN'),\n",
       "  ('.', '.')],\n",
       " [('Activity', 'NOUN'),\n",
       "  ('was', 'VERB'),\n",
       "  ('light', 'ADJ'),\n",
       "  ('in', 'ADP'),\n",
       "  ('derivative', 'ADJ'),\n",
       "  ('markets', 'NOUN'),\n",
       "  (',', '.'),\n",
       "  ('with', 'ADP'),\n",
       "  ('no', 'DET'),\n",
       "  ('new', 'ADJ'),\n",
       "  ('issues', 'NOUN'),\n",
       "  ('priced', 'VERB'),\n",
       "  ('*-1', 'X'),\n",
       "  ('.', '.')],\n",
       " [('The', 'DET'),\n",
       "  ('Thai', 'NOUN'),\n",
       "  ('cabinet', 'NOUN'),\n",
       "  ('endorsed', 'VERB'),\n",
       "  ('Finance', 'NOUN'),\n",
       "  ('Minister', 'NOUN'),\n",
       "  ('Pramual', 'NOUN'),\n",
       "  ('Sabhavasu', 'NOUN'),\n",
       "  (\"'s\", 'PRT'),\n",
       "  ('proposal', 'NOUN'),\n",
       "  ('*', 'X'),\n",
       "  ('to', 'PRT'),\n",
       "  ('build', 'VERB'),\n",
       "  ('a', 'DET'),\n",
       "  ('$', '.'),\n",
       "  ('19', 'NUM'),\n",
       "  ('million', 'NUM'),\n",
       "  ('*U*', 'X'),\n",
       "  ('conference', 'NOUN'),\n",
       "  ('center', 'NOUN'),\n",
       "  ('for', 'ADP'),\n",
       "  ('a', 'DET'),\n",
       "  ('joint', 'ADJ'),\n",
       "  ('meeting', 'NOUN'),\n",
       "  ('of', 'ADP'),\n",
       "  ('the', 'DET'),\n",
       "  ('World', 'NOUN'),\n",
       "  ('Bank', 'NOUN'),\n",
       "  ('and', 'CONJ'),\n",
       "  ('International', 'NOUN'),\n",
       "  ('Monetary', 'NOUN'),\n",
       "  ('Fund', 'NOUN'),\n",
       "  ('two', 'NUM'),\n",
       "  ('years', 'NOUN'),\n",
       "  ('from', 'ADP'),\n",
       "  ('now', 'ADV'),\n",
       "  ('.', '.')]]"
      ]
     },
     "execution_count": 46,
     "metadata": {},
     "output_type": "execute_result"
    }
   ],
   "source": [
    "# Running on entire test dataset would take more than 3-4hrs. \n",
    "# Let's test our Viterbi algorithm on a few sample sentences of test dataset\n",
    "\n",
    "random.seed(1234)\n",
    "\n",
    "# choose random 5 sents\n",
    "rndom = [random.randint(1,len(x_test)) for x in range(5)]\n",
    "\n",
    "# list of sents\n",
    "test_run = [x_test[i] for i in rndom]\n",
    "\n",
    "# list of tagged words\n",
    "test_run_base = [tup for sent in test_run for tup in sent]\n",
    "\n",
    "# list of untagged words\n",
    "test_tagged_words = [tup[0] for sent in test_run for tup in sent]\n",
    "test_run"
   ]
  },
  {
   "cell_type": "code",
   "execution_count": 47,
   "metadata": {},
   "outputs": [],
   "source": [
    "# tagging the test sentences\n",
    "start = time.time()\n",
    "tagged_seq = Viterbi(test_tagged_words)\n",
    "end = time.time()\n",
    "difference = end-start"
   ]
  },
  {
   "cell_type": "code",
   "execution_count": 48,
   "metadata": {},
   "outputs": [
    {
     "name": "stdout",
     "output_type": "stream",
     "text": [
      "Time taken in seconds:  22.124781131744385\n",
      "[('This', 'DET'), ('species', 'VERB'), ('of', 'ADP'), ('congressional', 'ADJ'), ('action', 'NOUN'), ('is', 'VERB'), ('predicated', 'VERB'), ('*-50', 'X'), ('on', 'ADP'), ('an', 'DET'), ('interpretation', 'NOUN'), ('of', 'ADP'), ('the', 'DET'), ('appropriations', 'NOUN'), ('clause', 'NOUN'), ('that', 'ADP'), ('*T*-1', 'X'), ('is', 'VERB'), ('erroneous', 'VERB'), ('and', 'CONJ'), ('unconstitutional', 'ADJ'), ('.', '.'), ('The', 'DET'), ('Soviets', 'NOUN'), (',', '.'), ('who', 'PRON'), ('*T*-12', 'X'), ('normally', 'ADV'), ('have', 'VERB'), ('few', 'ADJ'), ('clients', 'NOUN'), ('other', 'ADJ'), ('than', 'ADP'), ('the', 'DET'), ('state', 'NOUN'), (',', '.'), ('will', 'VERB'), ('get', 'VERB'), ('``', '.'), ('exposure', 'NOUN'), ('to', 'PRT'), ('a', 'DET'), ('market', 'NOUN'), ('system', 'NOUN'), (',', '.'), (\"''\", '.'), ('he', 'PRON'), ('says', 'VERB'), ('0', 'X'), ('*T*-1', 'X'), ('.', '.'), ('Much', 'ADV'), ('of', 'ADP'), ('the', 'DET'), ('800', 'NUM'), ('service', 'NOUN'), ('will', 'VERB'), ('``', '.'), ('migrate', 'VERB'), ('to', 'PRT'), ('900', 'NUM'), (',', '.'), (\"''\", '.'), ('predicts', 'VERB'), ('*T*-1', 'X'), ('Jack', 'NOUN'), ('Lawless', 'VERB'), (',', '.'), ('general', 'ADJ'), ('manager', 'NOUN'), ('of', 'ADP'), ('US', 'VERB'), ('Sprint', 'VERB'), (\"'s\", 'PRT'), ('900', 'NUM'), ('product', 'NOUN'), ('.', '.'), ('Activity', 'VERB'), ('was', 'VERB'), ('light', 'ADJ'), ('in', 'ADP'), ('derivative', 'VERB'), ('markets', 'NOUN'), (',', '.'), ('with', 'ADP'), ('no', 'DET'), ('new', 'ADJ'), ('issues', 'NOUN'), ('priced', 'VERB'), ('*-1', 'X'), ('.', '.'), ('The', 'DET'), ('Thai', 'VERB'), ('cabinet', 'VERB'), ('endorsed', 'VERB'), ('Finance', 'NOUN'), ('Minister', 'NOUN'), ('Pramual', 'VERB'), ('Sabhavasu', 'VERB'), (\"'s\", 'PRT'), ('proposal', 'NOUN'), ('*', 'X'), ('to', 'PRT'), ('build', 'VERB'), ('a', 'DET'), ('$', '.'), ('19', 'NUM'), ('million', 'NUM'), ('*U*', 'X'), ('conference', 'NOUN'), ('center', 'NOUN'), ('for', 'ADP'), ('a', 'DET'), ('joint', 'ADJ'), ('meeting', 'NOUN'), ('of', 'ADP'), ('the', 'DET'), ('World', 'NOUN'), ('Bank', 'NOUN'), ('and', 'CONJ'), ('International', 'NOUN'), ('Monetary', 'NOUN'), ('Fund', 'NOUN'), ('two', 'NUM'), ('years', 'NOUN'), ('from', 'ADP'), ('now', 'ADV'), ('.', '.')]\n"
     ]
    }
   ],
   "source": [
    "print(\"Time taken in seconds: \", difference)\n",
    "print(tagged_seq)"
   ]
  },
  {
   "cell_type": "code",
   "execution_count": 55,
   "metadata": {},
   "outputs": [
    {
     "data": {
      "text/plain": [
       "[[('This', 'DET'), (('species', 'VERB'), ('species', 'NOUN'))],\n",
       " [('clause', 'NOUN'), (('that', 'ADP'), ('that', 'DET'))],\n",
       " [('is', 'VERB'), (('erroneous', 'VERB'), ('erroneous', 'ADJ'))],\n",
       " [('.', '.'), (('Much', 'ADV'), ('Much', 'ADJ'))],\n",
       " [('Jack', 'NOUN'), (('Lawless', 'VERB'), ('Lawless', 'NOUN'))],\n",
       " [('of', 'ADP'), (('US', 'VERB'), ('US', 'NOUN'))],\n",
       " [('US', 'NOUN'), (('Sprint', 'VERB'), ('Sprint', 'NOUN'))],\n",
       " [('.', '.'), (('Activity', 'VERB'), ('Activity', 'NOUN'))],\n",
       " [('in', 'ADP'), (('derivative', 'VERB'), ('derivative', 'ADJ'))],\n",
       " [('The', 'DET'), (('Thai', 'VERB'), ('Thai', 'NOUN'))],\n",
       " [('Thai', 'NOUN'), (('cabinet', 'VERB'), ('cabinet', 'NOUN'))],\n",
       " [('Minister', 'NOUN'), (('Pramual', 'VERB'), ('Pramual', 'NOUN'))],\n",
       " [('Pramual', 'NOUN'), (('Sabhavasu', 'VERB'), ('Sabhavasu', 'NOUN'))]]"
      ]
     },
     "execution_count": 55,
     "metadata": {},
     "output_type": "execute_result"
    }
   ],
   "source": [
    "incorrect_tagged_cases = [[test_run_base[i-1],j] for i, j in enumerate(zip(tagged_seq, test_run_base)) if j[0]!=j[1]]\n",
    "incorrect_tagged_cases"
   ]
  },
  {
   "cell_type": "markdown",
   "metadata": {},
   "source": [
    "### Solve the problem of unknown words"
   ]
  },
  {
   "cell_type": "markdown",
   "metadata": {},
   "source": [
    "Let's  create a dictionary whose default value for any entry is 'N'. When we access a non-existent entry, it is automatically added to the dictionary."
   ]
  },
  {
   "cell_type": "code",
   "execution_count": 81,
   "metadata": {},
   "outputs": [
    {
     "data": {
      "text/plain": [
       "[('This', 'DET'),\n",
       " ('species', 'VERB'),\n",
       " ('of', 'ADP'),\n",
       " ('congressional', 'ADJ'),\n",
       " ('action', 'NOUN'),\n",
       " ('is', 'VERB'),\n",
       " ('predicated', 'VERB'),\n",
       " ('*-50', 'X'),\n",
       " ('on', 'ADP'),\n",
       " ('an', 'DET'),\n",
       " ('interpretation', 'NOUN'),\n",
       " ('the', 'DET'),\n",
       " ('appropriations', 'NOUN'),\n",
       " ('clause', 'NOUN'),\n",
       " ('that', 'ADP'),\n",
       " ('*T*-1', 'X'),\n",
       " ('erroneous', 'VERB'),\n",
       " ('and', 'CONJ'),\n",
       " ('unconstitutional', 'ADJ'),\n",
       " ('.', '.'),\n",
       " ('The', 'DET'),\n",
       " ('Soviets', 'NOUN'),\n",
       " (',', '.'),\n",
       " ('who', 'PRON'),\n",
       " ('*T*-12', 'X'),\n",
       " ('normally', 'ADV'),\n",
       " ('have', 'VERB'),\n",
       " ('few', 'ADJ'),\n",
       " ('clients', 'NOUN'),\n",
       " ('other', 'ADJ'),\n",
       " ('than', 'ADP'),\n",
       " ('state', 'NOUN'),\n",
       " ('will', 'VERB'),\n",
       " ('get', 'VERB'),\n",
       " ('``', '.'),\n",
       " ('exposure', 'NOUN'),\n",
       " ('to', 'PRT'),\n",
       " ('a', 'DET'),\n",
       " ('market', 'NOUN'),\n",
       " ('system', 'NOUN'),\n",
       " (\"''\", '.'),\n",
       " ('he', 'PRON'),\n",
       " ('says', 'VERB'),\n",
       " ('0', 'X'),\n",
       " ('Much', 'ADV'),\n",
       " ('800', 'NUM'),\n",
       " ('service', 'NOUN'),\n",
       " ('migrate', 'VERB'),\n",
       " ('900', 'NUM'),\n",
       " ('predicts', 'VERB'),\n",
       " ('Jack', 'NOUN'),\n",
       " ('Lawless', 'VERB'),\n",
       " ('general', 'ADJ'),\n",
       " ('manager', 'NOUN'),\n",
       " ('US', 'VERB'),\n",
       " ('Sprint', 'VERB'),\n",
       " (\"'s\", 'PRT'),\n",
       " ('product', 'NOUN'),\n",
       " ('Activity', 'VERB'),\n",
       " ('was', 'VERB'),\n",
       " ('light', 'ADJ'),\n",
       " ('in', 'ADP'),\n",
       " ('derivative', 'VERB'),\n",
       " ('markets', 'NOUN'),\n",
       " ('with', 'ADP'),\n",
       " ('no', 'DET'),\n",
       " ('new', 'ADJ'),\n",
       " ('issues', 'NOUN'),\n",
       " ('priced', 'VERB'),\n",
       " ('*-1', 'X'),\n",
       " ('Thai', 'VERB'),\n",
       " ('cabinet', 'VERB'),\n",
       " ('endorsed', 'VERB'),\n",
       " ('Finance', 'NOUN'),\n",
       " ('Minister', 'NOUN'),\n",
       " ('Pramual', 'VERB'),\n",
       " ('Sabhavasu', 'VERB'),\n",
       " ('proposal', 'NOUN'),\n",
       " ('*', 'X'),\n",
       " ('build', 'VERB'),\n",
       " ('$', '.'),\n",
       " ('19', 'NUM'),\n",
       " ('million', 'NUM'),\n",
       " ('*U*', 'X'),\n",
       " ('conference', 'NOUN'),\n",
       " ('center', 'NOUN'),\n",
       " ('for', 'ADP'),\n",
       " ('joint', 'ADJ'),\n",
       " ('meeting', 'NOUN'),\n",
       " ('World', 'NOUN'),\n",
       " ('Bank', 'NOUN'),\n",
       " ('International', 'NOUN'),\n",
       " ('Monetary', 'NOUN'),\n",
       " ('Fund', 'NOUN'),\n",
       " ('two', 'NUM'),\n",
       " ('years', 'NOUN'),\n",
       " ('from', 'ADP'),\n",
       " ('now', 'ADV')]"
      ]
     },
     "execution_count": 81,
     "metadata": {},
     "output_type": "execute_result"
    }
   ],
   "source": [
    "pos = defaultdict(lambda: 'NOUN',tagged_seq)\n",
    "list(pos.items())"
   ]
  },
  {
   "cell_type": "markdown",
   "metadata": {},
   "source": [
    "## Incrementally updating a dictionary\n",
    "\n",
    "We can employ dictionaries to count occurrences, emulating the method for tallying words shown in fig-tally. We begin by initializing an empty defaultdict, then process each part-of-speech tag in the text. If the tag hasn't been seen before, it will have a zero count by default. Each time we encounter a tag, we increment its count using the += operator."
   ]
  },
  {
   "cell_type": "code",
   "execution_count": 82,
   "metadata": {},
   "outputs": [
    {
     "data": {
      "text/plain": [
       "['NOUN',\n",
       " 'VERB',\n",
       " 'ADP',\n",
       " '.',\n",
       " 'DET',\n",
       " 'ADJ',\n",
       " 'ADV',\n",
       " 'CONJ',\n",
       " 'PRON',\n",
       " 'PRT',\n",
       " 'NUM',\n",
       " 'X']"
      ]
     },
     "execution_count": 82,
     "metadata": {},
     "output_type": "execute_result"
    }
   ],
   "source": [
    "counts = defaultdict(int)\n",
    "from nltk.corpus import brown\n",
    "for (word, tag) in brown.tagged_words(categories='news', tagset='universal'):\n",
    "    counts[tag] += 1\n",
    "counts['NOUN']\n",
    "sorted(counts)\n",
    "from operator import itemgetter\n",
    "sorted(counts.items(), key=itemgetter(1), reverse=True)\n",
    "[t for t, c in sorted(counts.items(), key=itemgetter(1), reverse=True)]"
   ]
  },
  {
   "cell_type": "markdown",
   "metadata": {},
   "source": [
    "### Combining taggers"
   ]
  },
  {
   "cell_type": "code",
   "execution_count": 88,
   "metadata": {},
   "outputs": [],
   "source": [
    "t0 = nltk.DefaultTagger('NN')\n",
    "t1 = nltk.UnigramTagger(x_train, backoff=t0)\n",
    "t2 = nltk.BigramTagger(x_train, backoff=t1)"
   ]
  },
  {
   "cell_type": "markdown",
   "metadata": {},
   "source": [
    "### Compare the tagging accuracies of the modifications with the vanilla Viterbi algorithm"
   ]
  },
  {
   "cell_type": "code",
   "execution_count": 76,
   "metadata": {},
   "outputs": [
    {
     "data": {
      "text/plain": [
       "0.8984375"
      ]
     },
     "execution_count": 76,
     "metadata": {},
     "output_type": "execute_result"
    }
   ],
   "source": [
    "## accuracy of viterbi vannila algorithm\n",
    "check_accuracy() "
   ]
  },
  {
   "cell_type": "code",
   "execution_count": 87,
   "metadata": {},
   "outputs": [
    {
     "data": {
      "text/plain": [
       "0.8994229183841714"
      ]
     },
     "execution_count": 87,
     "metadata": {},
     "output_type": "execute_result"
    }
   ],
   "source": [
    "t2.evaluate(x_test)"
   ]
  },
  {
   "cell_type": "code",
   "execution_count": 89,
   "metadata": {},
   "outputs": [
    {
     "data": {
      "text/plain": [
       "0.8957131079967023"
      ]
     },
     "execution_count": 89,
     "metadata": {},
     "output_type": "execute_result"
    }
   ],
   "source": [
    "# Lexicon (or unigram tagger)\n",
    "unigram_tagger = nltk.UnigramTagger(x_train)\n",
    "unigram_tagger.evaluate(x_test)"
   ]
  },
  {
   "cell_type": "markdown",
   "metadata": {},
   "source": [
    "### List down cases which were incorrectly tagged by original POS tagger and got corrected by your modifications"
   ]
  },
  {
   "cell_type": "code",
   "execution_count": null,
   "metadata": {},
   "outputs": [],
   "source": []
  },
  {
   "cell_type": "code",
   "execution_count": null,
   "metadata": {},
   "outputs": [],
   "source": []
  },
  {
   "cell_type": "code",
   "execution_count": null,
   "metadata": {},
   "outputs": [],
   "source": []
  }
 ],
 "metadata": {
  "kernelspec": {
   "display_name": "Python 3",
   "language": "python",
   "name": "python3"
  },
  "language_info": {
   "codemirror_mode": {
    "name": "ipython",
    "version": 3
   },
   "file_extension": ".py",
   "mimetype": "text/x-python",
   "name": "python",
   "nbconvert_exporter": "python",
   "pygments_lexer": "ipython3",
   "version": "3.6.8"
  }
 },
 "nbformat": 4,
 "nbformat_minor": 2
}
